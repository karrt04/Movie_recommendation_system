{
 "cells": [
  {
   "cell_type": "code",
   "execution_count": null,
   "metadata": {},
   "outputs": [],
   "source": [
    "#import librecommender"
   ]
  },
  {
   "cell_type": "code",
   "execution_count": null,
   "metadata": {},
   "outputs": [],
   "source": [
    "# import librecommender\n",
    "# from librecommender.data import Dataset\n",
    "# from LibRecommender.item_knn import ItemKNN\n",
    "\n",
    "# # Step 1: Load the dataset\n",
    "# data_path = r\"C:\\Users\\karrt\\Documents\\ProjectGRO\\Diff_proj\\ratings.csv\"\n",
    "# dataset = Dataset.load(data_path)\n",
    "\n",
    "# # Step 2: Data Preprocessing (if needed)\n",
    "# # Not needed for basic collaborative filtering with Librecommender\n",
    "\n",
    "# # Step 3: Create a Recommender Model\n",
    "# model = ItemKNN(k=10)  # Create an item-based collaborative filtering model with k-nearest neighbors\n",
    "\n",
    "# # Step 4: Train the Model\n",
    "# model.fit(dataset)\n",
    "\n",
    "# # Step 5: Make Predictions (Not necessary for training)\n",
    "\n",
    "# # Step 6: Generate Recommendations\n",
    "# user_id = 1  # Example user ID\n",
    "# recommendations = model.recommend(user_id, n=10)  # Generate 10 recommendations for the user\n",
    "\n",
    "# print(\"Recommendations for User\", user_id)\n",
    "# for item_id, score in recommendations:\n",
    "#     print(\"Movie ID:\", item_id, \"| Score:\", score)\n"
   ]
  },
  {
   "cell_type": "code",
   "execution_count": null,
   "metadata": {},
   "outputs": [],
   "source": [
    "import pandas as pd\n",
    "from surprise import Dataset, Reader, SVD, KNNBasic\n",
    "from surprise.model_selection import train_test_split\n",
    "from surprise.accuracy import rmse\n",
    "\n",
    "df = pd.read_csv(r\"C:\\Users\\karrt\\Documents\\ProjectGRO\\Diff_proj\\ratings.csv\")\n"
   ]
  },
  {
   "cell_type": "code",
   "execution_count": null,
   "metadata": {},
   "outputs": [],
   "source": [
    "df.head()"
   ]
  },
  {
   "cell_type": "code",
   "execution_count": null,
   "metadata": {},
   "outputs": [],
   "source": [
    "# Convert DataFrame to Surprise Dataset\n",
    "reader = Reader(rating_scale=(1, 5))\n",
    "data = Dataset.load_from_df(df[['userId', 'movieId', 'rating']], reader)"
   ]
  },
  {
   "cell_type": "code",
   "execution_count": null,
   "metadata": {},
   "outputs": [],
   "source": [
    "# Split the dataset into training and testing sets\n",
    "trainset, testset = train_test_split(data, test_size=0.2, random_state=42)\n",
    "\n",
    "# Train the model\n",
    "model = SVD()\n",
    "model.fit(trainset)\n",
    "\n",
    "# Make predictions\n",
    "predictions = model.test(testset)\n",
    "\n"
   ]
  },
  {
   "cell_type": "code",
   "execution_count": null,
   "metadata": {},
   "outputs": [],
   "source": [
    "# # Train the model\n",
    "# model2 = KNNBasic()\n",
    "# model2.fit(trainset)\n",
    "\n",
    "# # Make predictions\n",
    "# predictions2 = model.test(testset)"
   ]
  },
  {
   "cell_type": "code",
   "execution_count": null,
   "metadata": {},
   "outputs": [],
   "source": [
    "# Evaluate the model\n",
    "accuracy = rmse(predictions)\n",
    "print(\"RMSE:\", accuracy)\n",
    "\n",
    "# # Generate recommendations\n",
    "# user_id = str(1)  # Example user ID\n",
    "# user_unrated_movies = [r for r in testset if r[0] == user_id and not model.predict(r[0], r[1]).details['was_impossible']]\n",
    "\n",
    "# # Sort unrated movies by predicted ratings\n",
    "# user_unrated_movies.sort(key=lambda x: model.predict(x[0], x[1]).est, reverse=True)\n",
    "\n",
    "# # Print top recommendations\n",
    "# top_n = 10\n",
    "# print(\"\\nTop\", top_n, \"recommendations for User\", user_id, \":\")\n",
    "# for i, (user_id, movie_id, _) in enumerate(user_unrated_movies[:top_n]):\n",
    "#     print(\"Movie ID:\", movie_id, \"| Predicted Rating:\", model.predict(user_id, movie_id).est)"
   ]
  },
  {
   "cell_type": "code",
   "execution_count": null,
   "metadata": {},
   "outputs": [],
   "source": [
    "# Evaluate the model\n",
    "accuracy = rmse(predictions)\n",
    "print(\"RMSE:\", accuracy)"
   ]
  },
  {
   "cell_type": "code",
   "execution_count": null,
   "metadata": {},
   "outputs": [],
   "source": [
    "# Get user input for userId\n",
    "user_id = input(\"Enter User ID: \")\n",
    "\n",
    "# Generate recommendations for the specified user\n",
    "user_unrated_movies = []\n",
    "for movie_id in df['movieId'].unique():\n",
    "    if movie_id not in df[df['userId'] == int(user_id)]['movieId'].values:\n",
    "        user_unrated_movies.append((user_id, movie_id, None))\n",
    "\n",
    "# Sort unrated movies by predicted ratings\n",
    "user_unrated_movies.sort(key=lambda x: model.predict(x[0], x[1]).est, reverse=True)\n",
    "\n",
    "# Print top recommendations\n",
    "top_n = 10\n",
    "print(\"\\nTop\", top_n, \"recommendations for User\", user_id, \":\")\n",
    "for i, (user_id, movie_id, _) in enumerate(user_unrated_movies[:top_n]):\n",
    "    movie_title = df[df['movieId'] == movie_id]['title'].values[0]\n",
    "    print(\"Movie ID:\", movie_id, \"| Title:\", movie_title, \"| Predicted Rating:\", model.predict(user_id, movie_id).est)\n",
    "\n",
    "\n",
    "# top_n = 10\n",
    "# print(\"\\nTop\", top_n, \"recommendations for User\", user_id, \":\")\n",
    "# for i, (user_id, movie_id, _) in enumerate(user_unrated_movies[:top_n]):\n",
    "#     print(\"Movie ID:\", movie_id, \"| Predicted Rating:\", model2.predict(user_id, movie_id).est)"
   ]
  }
 ],
 "metadata": {
  "kernelspec": {
   "display_name": "base",
   "language": "python",
   "name": "python3"
  },
  "language_info": {
   "codemirror_mode": {
    "name": "ipython",
    "version": 3
   },
   "file_extension": ".py",
   "mimetype": "text/x-python",
   "name": "python",
   "nbconvert_exporter": "python",
   "pygments_lexer": "ipython3",
   "version": "3.11.7"
  }
 },
 "nbformat": 4,
 "nbformat_minor": 2
}
