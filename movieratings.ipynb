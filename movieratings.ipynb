{
 "cells": [
  {
   "cell_type": "code",
   "execution_count": 2,
   "metadata": {},
   "outputs": [
    {
     "data": {
      "text/html": [
       "<div>\n",
       "<style scoped>\n",
       "    .dataframe tbody tr th:only-of-type {\n",
       "        vertical-align: middle;\n",
       "    }\n",
       "\n",
       "    .dataframe tbody tr th {\n",
       "        vertical-align: top;\n",
       "    }\n",
       "\n",
       "    .dataframe thead th {\n",
       "        text-align: right;\n",
       "    }\n",
       "</style>\n",
       "<table border=\"1\" class=\"dataframe\">\n",
       "  <thead>\n",
       "    <tr style=\"text-align: right;\">\n",
       "      <th></th>\n",
       "      <th>movieId</th>\n",
       "      <th>title</th>\n",
       "      <th>genres</th>\n",
       "    </tr>\n",
       "  </thead>\n",
       "  <tbody>\n",
       "    <tr>\n",
       "      <th>0</th>\n",
       "      <td>1</td>\n",
       "      <td>Toy Story (1995)</td>\n",
       "      <td>Adventure Animation Children Comedy Fantasy</td>\n",
       "    </tr>\n",
       "    <tr>\n",
       "      <th>1</th>\n",
       "      <td>2</td>\n",
       "      <td>Jumanji (1995)</td>\n",
       "      <td>Adventure Children Fantasy</td>\n",
       "    </tr>\n",
       "    <tr>\n",
       "      <th>2</th>\n",
       "      <td>3</td>\n",
       "      <td>Grumpier Old Men (1995)</td>\n",
       "      <td>Comedy Romance</td>\n",
       "    </tr>\n",
       "    <tr>\n",
       "      <th>3</th>\n",
       "      <td>4</td>\n",
       "      <td>Waiting to Exhale (1995)</td>\n",
       "      <td>Comedy Drama Romance</td>\n",
       "    </tr>\n",
       "    <tr>\n",
       "      <th>4</th>\n",
       "      <td>5</td>\n",
       "      <td>Father of the Bride Part II (1995)</td>\n",
       "      <td>Comedy</td>\n",
       "    </tr>\n",
       "  </tbody>\n",
       "</table>\n",
       "</div>"
      ],
      "text/plain": [
       "   movieId                               title  \\\n",
       "0        1                    Toy Story (1995)   \n",
       "1        2                      Jumanji (1995)   \n",
       "2        3             Grumpier Old Men (1995)   \n",
       "3        4            Waiting to Exhale (1995)   \n",
       "4        5  Father of the Bride Part II (1995)   \n",
       "\n",
       "                                        genres  \n",
       "0  Adventure Animation Children Comedy Fantasy  \n",
       "1                   Adventure Children Fantasy  \n",
       "2                               Comedy Romance  \n",
       "3                         Comedy Drama Romance  \n",
       "4                                       Comedy  "
      ]
     },
     "execution_count": 2,
     "metadata": {},
     "output_type": "execute_result"
    }
   ],
   "source": [
    "import pandas as pd\n",
    "from sklearn.feature_extraction.text import TfidfVectorizer\n",
    "from sklearn.metrics.pairwise import cosine_similarity\n",
    "\n",
    "# Load the CSV file into a DataFrame\n",
    "df = pd.read_csv(r\"C:\\Users\\karrt\\Documents\\ProjectGRO\\Diff_proj\\movies.csv\")\n",
    "# Preprocess the genres column\n",
    "df['genres'] = df['genres'].str.replace('|', ' ')\n",
    "\n",
    "df.head()\n",
    "\n",
    "\n"
   ]
  },
  {
   "cell_type": "code",
   "execution_count": 4,
   "metadata": {},
   "outputs": [
    {
     "name": "stdout",
     "output_type": "stream",
     "text": [
      "TfidfVectorizer(stop_words='english')\n",
      "  (0, 8)\t0.4967483702845257\n",
      "  (0, 4)\t0.27771718920269134\n",
      "  (0, 3)\t0.48808437174545455\n",
      "  (0, 2)\t0.48833048769293214\n",
      "  (0, 1)\t0.44656600888161224\n",
      "  (1, 8)\t0.6004535115193032\n",
      "  (1, 3)\t0.5899807477262311\n",
      "  (1, 1)\t0.5397946811673262\n",
      "  (2, 18)\t0.8011493881971549\n",
      "  (2, 4)\t0.5984644164788115\n",
      "  (3, 7)\t0.44022013245613556\n",
      "  (3, 18)\t0.7193439273049612\n",
      "  (3, 4)\t0.5373551425545094\n",
      "  (4, 4)\t1.0\n",
      "  (5, 20)\t0.5370772735955626\n",
      "  (5, 5)\t0.6249107985241872\n",
      "  (5, 0)\t0.5665990611314318\n",
      "  (6, 18)\t0.8011493881971549\n",
      "  (6, 4)\t0.5984644164788115\n",
      "  (7, 3)\t0.7377898038839786\n",
      "  (7, 1)\t0.6750305217431583\n",
      "  (8, 0)\t1.0\n",
      "  (9, 20)\t0.5220827968697404\n",
      "  (9, 0)\t0.5507803757155867\n",
      "  (9, 1)\t0.6512069801063765\n",
      "  :\t:\n",
      "  (62408, 8)\t0.771028790321875\n",
      "  (62409, 22)\t1.0\n",
      "  (62410, 7)\t1.0\n",
      "  (62411, 4)\t1.0\n",
      "  (62412, 6)\t0.6432580604344854\n",
      "  (62412, 2)\t0.7656494417721884\n",
      "  (62413, 7)\t1.0\n",
      "  (62414, 12)\t0.6946781180206175\n",
      "  (62414, 5)\t0.7193207298162155\n",
      "  (62415, 14)\t0.7071067811865475\n",
      "  (62415, 11)\t0.7071067811865475\n",
      "  (62416, 7)\t0.6337256693107506\n",
      "  (62416, 4)\t0.7735578685894426\n",
      "  (62417, 0)\t0.6312548365135414\n",
      "  (62417, 18)\t0.6213518245054672\n",
      "  (62417, 4)\t0.46415432946595353\n",
      "  (62418, 7)\t1.0\n",
      "  (62419, 6)\t1.0\n",
      "  (62420, 7)\t0.6337256693107506\n",
      "  (62420, 4)\t0.7735578685894426\n",
      "  (62421, 14)\t0.7071067811865475\n",
      "  (62421, 11)\t0.7071067811865475\n",
      "  (62422, 0)\t0.6018452421788044\n",
      "  (62422, 7)\t0.36253589207745146\n",
      "  (62422, 1)\t0.7115827649840479\n"
     ]
    }
   ],
   "source": [
    "# Initialize TF-IDF Vectorizer\n",
    "tfidf = TfidfVectorizer(stop_words='english')\n",
    "print(tfidf)\n",
    "\n",
    "# Fit and transform the genres column\n",
    "tfidf_matrix = tfidf.fit_transform(df['genres'])\n",
    "print(tfidf_matrix)\n",
    "\n",
    "# Compute cosine similarity matrix\n",
    "cosine_sim = cosine_similarity(tfidf_matrix, tfidf_matrix)\n",
    "\n",
    "\n",
    "\n",
    "# # Initialize TF-IDF Vectorizer\n",
    "# tfidf = TfidfVectorizer(stop_words='english')\n",
    "\n",
    "# # Fit and transform the genres column\n",
    "# tfidf_matrix = tfidf.fit_transform(df['genres'])\n",
    "\n",
    "# # Compute cosine similarity matrix\n",
    "# cosine_sim = cosine_similarity(tfidf_matrix, tfidf_matrix)"
   ]
  },
  {
   "cell_type": "code",
   "execution_count": 5,
   "metadata": {},
   "outputs": [
    {
     "name": "stdout",
     "output_type": "stream",
     "text": [
      "[[1.         0.82728864 0.16620386 ... 0.21483032 0.         0.31776868]\n",
      " [0.82728864 1.         0.         ... 0.         0.         0.38410859]\n",
      " [0.16620386 0.         1.         ... 0.46294686 0.         0.        ]\n",
      " ...\n",
      " [0.21483032 0.         0.46294686 ... 1.         0.         0.2297483 ]\n",
      " [0.         0.         0.         ... 0.         1.         0.        ]\n",
      " [0.31776868 0.38410859 0.         ... 0.2297483  0.         1.        ]]\n"
     ]
    }
   ],
   "source": [
    "print(cosine_sim)"
   ]
  },
  {
   "cell_type": "code",
   "execution_count": 6,
   "metadata": {},
   "outputs": [
    {
     "name": "stdout",
     "output_type": "stream",
     "text": [
      "(62423, 62423)\n"
     ]
    }
   ],
   "source": [
    "print(cosine_sim.shape)"
   ]
  },
  {
   "cell_type": "code",
   "execution_count": 7,
   "metadata": {},
   "outputs": [
    {
     "name": "stdout",
     "output_type": "stream",
     "text": [
      "(62423, 23)\n"
     ]
    }
   ],
   "source": [
    "print(tfidf_matrix.shape)"
   ]
  },
  {
   "cell_type": "code",
   "execution_count": 8,
   "metadata": {},
   "outputs": [
    {
     "name": "stdout",
     "output_type": "stream",
     "text": [
      "['action' 'adventure' 'animation' 'children' 'comedy' 'crime'\n",
      " 'documentary' 'drama' 'fantasy' 'fi' 'film' 'genres' 'horror' 'imax'\n",
      " 'listed' 'musical' 'mystery' 'noir' 'romance' 'sci' 'thriller' 'war'\n",
      " 'western']\n"
     ]
    }
   ],
   "source": [
    "# Get feature names\n",
    "feature_names = tfidf.get_feature_names_out()\n",
    "\n",
    "# Print the feature names\n",
    "print(feature_names)"
   ]
  },
  {
   "cell_type": "code",
   "execution_count": 20,
   "metadata": {},
   "outputs": [
    {
     "name": "stdout",
     "output_type": "stream",
     "text": [
      "Number of movies with genre as '(no genre listed)': 5062\n"
     ]
    }
   ],
   "source": [
    "# Count the number of movies with genre as \"(no genre listed)\"\n",
    "no_genre_movies_count = df[df['genres'] == \"(no genres listed)\"].shape[0]\n",
    "print(\"Number of movies with genre as '(no genre listed)':\", no_genre_movies_count)"
   ]
  },
  {
   "cell_type": "code",
   "execution_count": 21,
   "metadata": {},
   "outputs": [
    {
     "name": "stdout",
     "output_type": "stream",
     "text": [
      "Shape of cleaned DataFrame: (57361, 3)\n"
     ]
    }
   ],
   "source": [
    "# Remove rows where genre is \"(no genres listed)\"\n",
    "df = df[df['genres'] != \"(no genres listed)\"]\n",
    "\n",
    "# Verify the removal by printing the shape of the cleaned DataFrame\n",
    "print(\"Shape of cleaned DataFrame:\", df.shape)\n"
   ]
  },
  {
   "cell_type": "code",
   "execution_count": 16,
   "metadata": {},
   "outputs": [],
   "source": [
    "from sklearn.metrics.pairwise import cosine_similarity\n",
    "\n",
    "# Load GloVe embeddings\n",
    "def load_glove_embeddings(file_path):\n",
    "    embeddings = {}\n",
    "    with open(file_path, 'r', encoding='utf-8') as f:\n",
    "        for line in f:\n",
    "            values = line.split()\n",
    "            word = values[0]\n",
    "            vector = np.array(values[1:], dtype='float32')\n",
    "            embeddings[word] = vector\n",
    "    return embeddings\n",
    "\n",
    "glove_embeddings = load_glove_embeddings(r\"C:\\Users\\karrt\\Documents\\ProjectGRO\\Diff_proj\\glove.6B.50d.txt\")  # Path to GloVe file"
   ]
  },
  {
   "cell_type": "code",
   "execution_count": 17,
   "metadata": {},
   "outputs": [],
   "source": [
    "\n",
    "# Find most similar genres to given genres using GloVe embeddings\n",
    "def find_most_similar_genres(input_genres, embeddings, df, top_n=3):\n",
    "    input_vectors = []\n",
    "    for input_genre in input_genres:\n",
    "        input_vector = np.zeros_like(next(iter(embeddings.values())))\n",
    "        for word in input_genre.split():\n",
    "            input_vector += embeddings.get(word.lower(), np.zeros_like(input_vector))\n",
    "        input_vector /= len(input_genre.split())  # Average the embeddings\n",
    "        input_vectors.append(input_vector)\n",
    "    \n",
    "    # Compute cosine similarity between input genre embeddings and genre embeddings in the dataset\n",
    "    similarities = []\n",
    "    for genre in df['genres']:\n",
    "        genre_vector = np.zeros_like(next(iter(embeddings.values())))\n",
    "        for word in genre.split():\n",
    "            genre_vector += embeddings.get(word.lower(), np.zeros_like(genre_vector))\n",
    "        genre_vector /= len(genre.split())  # Average the embeddings\n",
    "        similarity = np.mean([cosine_similarity([input_vector], [genre_vector])[0][0] for input_vector in input_vectors])\n",
    "        similarities.append(similarity)\n",
    "    \n",
    "    # Find indices of top N genres with highest similarity\n",
    "    top_indices = np.argsort(similarities)[-top_n:][::-1]\n",
    "    \n",
    "    return [df.iloc[idx]['genres'] for idx in top_indices]\n"
   ]
  },
  {
   "cell_type": "code",
   "execution_count": 18,
   "metadata": {},
   "outputs": [],
   "source": [
    "\n",
    "# Recommend movies based on the closest genres\n",
    "def recommend_movies_based_on_genres(closest_genres, df, tfidf_vectorizer, cosine_sim, top_n=3):\n",
    "    # Combine closest genres into a single string\n",
    "    combined_genres = ' '.join(closest_genres)\n",
    "    # Transform combined genres into TF-IDF vector\n",
    "    input_tfidf = tfidf_vectorizer.transform([combined_genres])\n",
    "    # Compute cosine similarity between combined genres and all movies\n",
    "    cosine_scores = cosine_similarity(input_tfidf, tfidf_matrix).flatten()\n",
    "    # Get indices of top n movies with highest cosine similarity\n",
    "    top_indices = cosine_scores.argsort()[-top_n:][::-1]\n",
    "    # Retrieve movie titles based on top indices\n",
    "    recommended_movies = df.iloc[top_indices]['title']\n",
    "    \n",
    "    return recommended_movies\n"
   ]
  },
  {
   "cell_type": "code",
   "execution_count": 19,
   "metadata": {},
   "outputs": [
    {
     "name": "stdout",
     "output_type": "stream",
     "text": [
      "Most similar genres to physical, brutal, madness : ['Action Fantasy Horror War', 'Action Horror War', 'Fantasy Horror War']\n",
      "Recommended Movies:\n",
      "61657               Adrenochrome (2018)\n",
      "40084    The Living and the Dead (2007)\n",
      "25811                   Stranded (2010)\n",
      "Name: title, dtype: object\n"
     ]
    }
   ],
   "source": [
    "# Example usage\n",
    "input_genres = input(\"Enter genres you would like to watch (separated by commas): \")\n",
    "\n",
    "most_similar_genres = find_most_similar_genres(input_genres.split(','), glove_embeddings, df)\n",
    "print(\"Most similar genres to\", input_genres, \":\", most_similar_genres)\n",
    "\n",
    "recommended_movies = recommend_movies_based_on_genres(most_similar_genres, df, tfidf, cosine_sim)\n",
    "print(\"Recommended Movies:\")\n",
    "print(recommended_movies)"
   ]
  },
  {
   "cell_type": "code",
   "execution_count": null,
   "metadata": {},
   "outputs": [],
   "source": []
  }
 ],
 "metadata": {
  "kernelspec": {
   "display_name": "base",
   "language": "python",
   "name": "python3"
  },
  "language_info": {
   "codemirror_mode": {
    "name": "ipython",
    "version": 3
   },
   "file_extension": ".py",
   "mimetype": "text/x-python",
   "name": "python",
   "nbconvert_exporter": "python",
   "pygments_lexer": "ipython3",
   "version": "3.11.7"
  }
 },
 "nbformat": 4,
 "nbformat_minor": 2
}
