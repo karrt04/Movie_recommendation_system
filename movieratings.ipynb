{
 "cells": [
  {
   "cell_type": "code",
   "execution_count": 1,
   "metadata": {},
   "outputs": [
    {
     "name": "stderr",
     "output_type": "stream",
     "text": [
      "C:\\Users\\karrt\\AppData\\Local\\Temp\\ipykernel_12840\\1770602479.py:8: FutureWarning: The default value of regex will change from True to False in a future version. In addition, single character regular expressions will *not* be treated as literal strings when regex=True.\n",
      "  df['genres'] = df['genres'].str.replace('|', ' ')\n"
     ]
    },
    {
     "data": {
      "text/html": [
       "<div>\n",
       "<style scoped>\n",
       "    .dataframe tbody tr th:only-of-type {\n",
       "        vertical-align: middle;\n",
       "    }\n",
       "\n",
       "    .dataframe tbody tr th {\n",
       "        vertical-align: top;\n",
       "    }\n",
       "\n",
       "    .dataframe thead th {\n",
       "        text-align: right;\n",
       "    }\n",
       "</style>\n",
       "<table border=\"1\" class=\"dataframe\">\n",
       "  <thead>\n",
       "    <tr style=\"text-align: right;\">\n",
       "      <th></th>\n",
       "      <th>movieId</th>\n",
       "      <th>title</th>\n",
       "      <th>genres</th>\n",
       "    </tr>\n",
       "  </thead>\n",
       "  <tbody>\n",
       "    <tr>\n",
       "      <th>0</th>\n",
       "      <td>1</td>\n",
       "      <td>Toy Story (1995)</td>\n",
       "      <td>Adventure Animation Children Comedy Fantasy</td>\n",
       "    </tr>\n",
       "    <tr>\n",
       "      <th>1</th>\n",
       "      <td>2</td>\n",
       "      <td>Jumanji (1995)</td>\n",
       "      <td>Adventure Children Fantasy</td>\n",
       "    </tr>\n",
       "    <tr>\n",
       "      <th>2</th>\n",
       "      <td>3</td>\n",
       "      <td>Grumpier Old Men (1995)</td>\n",
       "      <td>Comedy Romance</td>\n",
       "    </tr>\n",
       "    <tr>\n",
       "      <th>3</th>\n",
       "      <td>4</td>\n",
       "      <td>Waiting to Exhale (1995)</td>\n",
       "      <td>Comedy Drama Romance</td>\n",
       "    </tr>\n",
       "    <tr>\n",
       "      <th>4</th>\n",
       "      <td>5</td>\n",
       "      <td>Father of the Bride Part II (1995)</td>\n",
       "      <td>Comedy</td>\n",
       "    </tr>\n",
       "  </tbody>\n",
       "</table>\n",
       "</div>"
      ],
      "text/plain": [
       "   movieId                               title  \\\n",
       "0        1                    Toy Story (1995)   \n",
       "1        2                      Jumanji (1995)   \n",
       "2        3             Grumpier Old Men (1995)   \n",
       "3        4            Waiting to Exhale (1995)   \n",
       "4        5  Father of the Bride Part II (1995)   \n",
       "\n",
       "                                        genres  \n",
       "0  Adventure Animation Children Comedy Fantasy  \n",
       "1                   Adventure Children Fantasy  \n",
       "2                               Comedy Romance  \n",
       "3                         Comedy Drama Romance  \n",
       "4                                       Comedy  "
      ]
     },
     "execution_count": 1,
     "metadata": {},
     "output_type": "execute_result"
    }
   ],
   "source": [
    "import pandas as pd\n",
    "from sklearn.feature_extraction.text import TfidfVectorizer\n",
    "from sklearn.metrics.pairwise import cosine_similarity\n",
    "\n",
    "# Load the CSV file into a DataFrame\n",
    "df = pd.read_csv(r\"C:\\Users\\karrt\\Documents\\ProjectGRO\\Diff_proj\\movies.csv\")\n",
    "# Preprocess the genres column\n",
    "df['genres'] = df['genres'].str.replace('|', ' ')\n",
    "\n",
    "df.head()\n",
    "\n",
    "\n"
   ]
  },
  {
   "cell_type": "code",
   "execution_count": 2,
   "metadata": {},
   "outputs": [
    {
     "name": "stdout",
     "output_type": "stream",
     "text": [
      "TfidfVectorizer(stop_words='english')\n"
     ]
    }
   ],
   "source": [
    "# Initialize TF-IDF Vectorizer\n",
    "tfidf = TfidfVectorizer(stop_words='english')\n",
    "print(tfidf)\n",
    "\n",
    "# Fit and transform the genres column\n",
    "tfidf_matrix = tfidf.fit_transform(df['genres'])\n",
    "\n",
    "# Compute cosine similarity matrix\n",
    "cosine_sim = cosine_similarity(tfidf_matrix, tfidf_matrix)\n",
    "\n",
    "\n",
    "\n",
    "# # Initialize TF-IDF Vectorizer\n",
    "# tfidf = TfidfVectorizer(stop_words='english')\n",
    "\n",
    "# # Fit and transform the genres column\n",
    "# tfidf_matrix = tfidf.fit_transform(df['genres'])\n",
    "\n",
    "# # Compute cosine similarity matrix\n",
    "# cosine_sim = cosine_similarity(tfidf_matrix, tfidf_matrix)"
   ]
  },
  {
   "cell_type": "code",
   "execution_count": null,
   "metadata": {},
   "outputs": [
    {
     "name": "stdout",
     "output_type": "stream",
     "text": [
      "(62423, 62423)\n"
     ]
    }
   ],
   "source": [
    "print(cosine_sim.shape)"
   ]
  },
  {
   "cell_type": "code",
   "execution_count": null,
   "metadata": {},
   "outputs": [
    {
     "name": "stdout",
     "output_type": "stream",
     "text": [
      "(62423, 23)\n"
     ]
    }
   ],
   "source": [
    "print(tfidf_matrix.shape)"
   ]
  },
  {
   "cell_type": "code",
   "execution_count": null,
   "metadata": {},
   "outputs": [
    {
     "name": "stdout",
     "output_type": "stream",
     "text": [
      "['action' 'adventure' 'animation' 'children' 'comedy' 'crime'\n",
      " 'documentary' 'drama' 'fantasy' 'fi' 'film' 'genres' 'horror' 'imax'\n",
      " 'listed' 'musical' 'mystery' 'noir' 'romance' 'sci' 'thriller' 'war'\n",
      " 'western']\n"
     ]
    }
   ],
   "source": [
    "# Get feature names\n",
    "feature_names = tfidf.get_feature_names_out()\n",
    "\n",
    "# Print the feature names\n",
    "print(feature_names)"
   ]
  },
  {
   "cell_type": "code",
   "execution_count": null,
   "metadata": {},
   "outputs": [
    {
     "name": "stdout",
     "output_type": "stream",
     "text": [
      "Number of movies with genre as '(no genre listed)': 5062\n"
     ]
    }
   ],
   "source": [
    "# Count the number of movies with genre as \"(no genre listed)\"\n",
    "no_genre_movies_count = df[df['genres'] == \"(no genres listed)\"].shape[0]\n",
    "print(\"Number of movies with genre as '(no genre listed)':\", no_genre_movies_count)"
   ]
  },
  {
   "cell_type": "code",
   "execution_count": null,
   "metadata": {},
   "outputs": [
    {
     "name": "stdout",
     "output_type": "stream",
     "text": [
      "Shape of cleaned DataFrame: (57361, 3)\n"
     ]
    }
   ],
   "source": [
    "# Remove rows where genre is \"(no genres listed)\"\n",
    "df = df[df['genres'] != \"(no genres listed)\"]\n",
    "\n",
    "# Verify the removal by printing the shape of the cleaned DataFrame\n",
    "print(\"Shape of cleaned DataFrame:\", df.shape)\n"
   ]
  },
  {
   "cell_type": "code",
   "execution_count": null,
   "metadata": {},
   "outputs": [],
   "source": [
    "from sklearn.metrics.pairwise import cosine_similarity\n",
    "\n",
    "# Load GloVe embeddings\n",
    "def load_glove_embeddings(file_path):\n",
    "    embeddings = {}\n",
    "    with open(file_path, 'r', encoding='utf-8') as f:\n",
    "        for line in f:\n",
    "            values = line.split()\n",
    "            word = values[0]\n",
    "            vector = np.array(values[1:], dtype='float32')\n",
    "            embeddings[word] = vector\n",
    "    return embeddings\n",
    "\n",
    "glove_embeddings = load_glove_embeddings(r\"C:\\Users\\karrt\\Documents\\ProjectGRO\\Diff_proj\\glove.6B.50d.txt\")  # Path to GloVe file"
   ]
  },
  {
   "cell_type": "code",
   "execution_count": null,
   "metadata": {},
   "outputs": [],
   "source": [
    "\n",
    "# Find most similar genres to given genres using GloVe embeddings\n",
    "def find_most_similar_genres(input_genres, embeddings, df, top_n=3):\n",
    "    input_vectors = []\n",
    "    for input_genre in input_genres:\n",
    "        input_vector = np.zeros_like(next(iter(embeddings.values())))\n",
    "        for word in input_genre.split():\n",
    "            input_vector += embeddings.get(word.lower(), np.zeros_like(input_vector))\n",
    "        input_vector /= len(input_genre.split())  # Average the embeddings\n",
    "        input_vectors.append(input_vector)\n",
    "    \n",
    "    # Compute cosine similarity between input genre embeddings and genre embeddings in the dataset\n",
    "    similarities = []\n",
    "    for genre in df['genres']:\n",
    "        genre_vector = np.zeros_like(next(iter(embeddings.values())))\n",
    "        for word in genre.split():\n",
    "            genre_vector += embeddings.get(word.lower(), np.zeros_like(genre_vector))\n",
    "        genre_vector /= len(genre.split())  # Average the embeddings\n",
    "        similarity = np.mean([cosine_similarity([input_vector], [genre_vector])[0][0] for input_vector in input_vectors])\n",
    "        similarities.append(similarity)\n",
    "    \n",
    "    # Find indices of top N genres with highest similarity\n",
    "    top_indices = np.argsort(similarities)[-top_n:][::-1]\n",
    "    \n",
    "    return [df.iloc[idx]['genres'] for idx in top_indices]\n"
   ]
  },
  {
   "cell_type": "code",
   "execution_count": null,
   "metadata": {},
   "outputs": [],
   "source": [
    "\n",
    "# Recommend movies based on the closest genres\n",
    "def recommend_movies_based_on_genres(closest_genres, df, tfidf_vectorizer, cosine_sim, top_n=3):\n",
    "    # Combine closest genres into a single string\n",
    "    combined_genres = ' '.join(closest_genres)\n",
    "    # Transform combined genres into TF-IDF vector\n",
    "    input_tfidf = tfidf_vectorizer.transform([combined_genres])\n",
    "    # Compute cosine similarity between combined genres and all movies\n",
    "    cosine_scores = cosine_similarity(input_tfidf, tfidf_matrix).flatten()\n",
    "    # Get indices of top n movies with highest cosine similarity\n",
    "    top_indices = cosine_scores.argsort()[-top_n:][::-1]\n",
    "    # Retrieve movie titles based on top indices\n",
    "    recommended_movies = df.iloc[top_indices]['title']\n",
    "    \n",
    "    return recommended_movies\n"
   ]
  },
  {
   "cell_type": "code",
   "execution_count": null,
   "metadata": {},
   "outputs": [
    {
     "name": "stdout",
     "output_type": "stream",
     "text": [
      "Most similar genres to physical, brutal, madness : ['Action Fantasy Horror War', 'Action Horror War', 'Fantasy Horror War']\n",
      "Recommended Movies:\n",
      "61657               Adrenochrome (2018)\n",
      "40084    The Living and the Dead (2007)\n",
      "25811                   Stranded (2010)\n",
      "Name: title, dtype: object\n"
     ]
    }
   ],
   "source": [
    "# Example usage\n",
    "input_genres = input(\"Enter genres you would like to watch (separated by commas): \")\n",
    "\n",
    "most_similar_genres = find_most_similar_genres(input_genres.split(','), glove_embeddings, df)\n",
    "print(\"Most similar genres to\", input_genres, \":\", most_similar_genres)\n",
    "\n",
    "recommended_movies = recommend_movies_based_on_genres(most_similar_genres, df, tfidf, cosine_sim)\n",
    "print(\"Recommended Movies:\")\n",
    "print(recommended_movies)"
   ]
  },
  {
   "cell_type": "code",
   "execution_count": null,
   "metadata": {},
   "outputs": [],
   "source": []
  }
 ],
 "metadata": {
  "kernelspec": {
   "display_name": "base",
   "language": "python",
   "name": "python3"
  },
  "language_info": {
   "codemirror_mode": {
    "name": "ipython",
    "version": 3
   },
   "file_extension": ".py",
   "mimetype": "text/x-python",
   "name": "python",
   "nbconvert_exporter": "python",
   "pygments_lexer": "ipython3",
   "version": "3.11.7"
  }
 },
 "nbformat": 4,
 "nbformat_minor": 2
}
