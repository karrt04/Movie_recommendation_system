{
 "cells": [
  {
   "cell_type": "code",
   "execution_count": 1,
   "metadata": {},
   "outputs": [],
   "source": [
    "\n",
    "import pandas as pd\n",
    "from sklearn.feature_extraction.text import CountVectorizer\n",
    "from sklearn.metrics.pairwise import cosine_similarity\n",
    "\n",
    "# Load movies.csv data\n",
    "movies_df = pd.read_csv(r\"C:\\Users\\karrt\\Documents\\ProjectGRO\\Diff_proj\\movies.csv\")\n",
    "\n",
    "# Load ratings.csv data\n",
    "ratings_df = pd.read_csv(r\"C:\\Users\\karrt\\Documents\\ProjectGRO\\Diff_proj\\ratings.csv\")\n"
   ]
  },
  {
   "cell_type": "code",
   "execution_count": 2,
   "metadata": {},
   "outputs": [],
   "source": [
    "# Ask for user ID\n",
    "user_id = int(input(\"Enter your user ID: \"))\n",
    "\n",
    "# Filter ratings for the user\n",
    "user_ratings = ratings_df[ratings_df['userId'] == user_id]\n",
    "\n",
    "# Sort ratings by rating value (descending) and timestamp (descending)\n",
    "user_ratings_sorted = user_ratings.sort_values(by=['rating', 'timestamp'], ascending=[False, False])"
   ]
  },
  {
   "cell_type": "code",
   "execution_count": 3,
   "metadata": {},
   "outputs": [
    {
     "name": "stdout",
     "output_type": "stream",
     "text": [
      "       userId  movieId  rating  timestamp\n",
      "13280     100     1193     5.0  862169731\n",
      "13293     100     1466     5.0  862169186\n",
      "13285     100     1358     5.0  862169132\n",
      "13283     100     1354     5.0  862169101\n",
      "13261     100      714     5.0  862169065\n"
     ]
    }
   ],
   "source": [
    "print(user_ratings_sorted.head())"
   ]
  },
  {
   "cell_type": "code",
   "execution_count": 4,
   "metadata": {},
   "outputs": [],
   "source": [
    "# Select top 10 highest rated movies by the user\n",
    "top_rated_movies = []\n",
    "for rating_value in sorted(user_ratings['rating'].unique(), reverse=True):\n",
    "    movies_with_rating = user_ratings_sorted[user_ratings_sorted['rating'] == rating_value]\n",
    "    top_rated_movies.extend(movies_with_rating.head(10 - len(top_rated_movies)).index)\n",
    "\n",
    "# Extract genres of selected movies\n",
    "selected_genres = movies_df.loc[top_rated_movies, 'genres']"
   ]
  },
  {
   "cell_type": "code",
   "execution_count": 5,
   "metadata": {},
   "outputs": [
    {
     "name": "stdout",
     "output_type": "stream",
     "text": [
      "13280                         Western\n",
      "13293             Action|Comedy|Crime\n",
      "13285    Action|Adventure|Sci-Fi|IMAX\n",
      "13283            Crime|Drama|Thriller\n",
      "13261                          Comedy\n",
      "13282                     Documentary\n",
      "13268                    Comedy|Drama\n",
      "13247                           Drama\n",
      "13276                    Comedy|Drama\n",
      "13249                Action|Drama|War\n",
      "Name: genres, dtype: object\n"
     ]
    }
   ],
   "source": [
    "print(selected_genres)"
   ]
  },
  {
   "cell_type": "code",
   "execution_count": 6,
   "metadata": {},
   "outputs": [
    {
     "name": "stdout",
     "output_type": "stream",
     "text": [
      "Drama      5\n",
      "Comedy     4\n",
      "Action     3\n",
      "Crime      2\n",
      "Western    1\n",
      "Name: genres, dtype: int64\n",
      "['Drama', 'Comedy', 'Action', 'Crime', 'Western']\n"
     ]
    }
   ],
   "source": [
    "\n",
    "# Count occurrences of each genre\n",
    "genre_counts = selected_genres.str.split('|').explode().value_counts().head(5)\n",
    "print(genre_counts)\n",
    "\n",
    "# Get the top 5 most watched genres\n",
    "top_genres = genre_counts.index.tolist()\n",
    "print(top_genres)"
   ]
  },
  {
   "cell_type": "code",
   "execution_count": 7,
   "metadata": {},
   "outputs": [],
   "source": [
    "\n",
    "# Filter movies by selected genres\n",
    "genre_movies = movies_df[movies_df['genres'].apply(lambda x: any(genre in x for genre in top_genres))]\n",
    "\n",
    "# Convert genres into a single string\n",
    "genre_string = ' '.join(genre_movies['genres'])\n"
   ]
  },
  {
   "cell_type": "code",
   "execution_count": 8,
   "metadata": {},
   "outputs": [
    {
     "name": "stdout",
     "output_type": "stream",
     "text": [
      "TfidfVectorizer(stop_words='english')\n"
     ]
    }
   ],
   "source": [
    "from sklearn.feature_extraction.text import TfidfVectorizer\n",
    "from sklearn.metrics.pairwise import cosine_similarity\n",
    "\n",
    "# Initialize TF-IDF Vectorizer\n",
    "tfidf = TfidfVectorizer(stop_words='english')\n",
    "print(tfidf)\n",
    "\n",
    "# Fit and transform the genres column\n",
    "tfidf_matrix = tfidf.fit_transform(movies_df['genres'])"
   ]
  },
  {
   "cell_type": "code",
   "execution_count": 9,
   "metadata": {},
   "outputs": [],
   "source": [
    "# Recommend movies based on the closest genres\n",
    "def recommend_movies_based_on_genres(closest_genres, df, tfidf_vectorizer, top_n=10):\n",
    "    # Combine closest genres into a single string\n",
    "    combined_genres = ' '.join(closest_genres)\n",
    "    # Transform combined genres into TF-IDF vector\n",
    "    input_tfidf = tfidf_vectorizer.transform([combined_genres])\n",
    "    # Compute cosine similarity between combined genres and all movies\n",
    "    cosine_scores = cosine_similarity(input_tfidf, tfidf_matrix).flatten()\n",
    "    print(cosine_scores)\n",
    "    # Get indices of top n movies with highest cosine similarity\n",
    "    top_indices = cosine_scores.argsort()[-top_n:][::-1]\n",
    "    # Retrieve movie titles based on top indices\n",
    "    recommended_movies = df.iloc[top_indices]['title']\n",
    "    \n",
    "    return recommended_movies"
   ]
  },
  {
   "cell_type": "code",
   "execution_count": 10,
   "metadata": {},
   "outputs": [
    {
     "name": "stdout",
     "output_type": "stream",
     "text": [
      "[0.08742898 0.         0.18840437 ... 0.40696759 0.         0.35117956]\n"
     ]
    }
   ],
   "source": [
    "recommended_movies = recommend_movies_based_on_genres(top_genres, movies_df, tfidf)"
   ]
  },
  {
   "cell_type": "code",
   "execution_count": 11,
   "metadata": {},
   "outputs": [
    {
     "name": "stdout",
     "output_type": "stream",
     "text": [
      "For user ID: 100 , recommended movies are:\n",
      "10594                             Bandidas (2006)\n",
      "52664    A Minute To Pray, A Second To Die (1968)\n",
      "11811                         3:10 to Yuma (2007)\n",
      "42133                       Devil's Canyon (1953)\n",
      "10888                       Mad Dog Morgan (1976)\n",
      "24807                         Outrage, The (1964)\n",
      "31006                     The Female Bunch (1971)\n",
      "7274                             Ned Kelly (1970)\n",
      "51328                          Boss Nigger (1975)\n",
      "42289         The Legend of Nigger Charley (1972)\n",
      "Name: title, dtype: object\n"
     ]
    }
   ],
   "source": [
    "print(\"For user ID:\",user_id,\", recommended movies are:\")\n",
    "print(recommended_movies)\n"
   ]
  }
 ],
 "metadata": {
  "kernelspec": {
   "display_name": "base",
   "language": "python",
   "name": "python3"
  },
  "language_info": {
   "codemirror_mode": {
    "name": "ipython",
    "version": 3
   },
   "file_extension": ".py",
   "mimetype": "text/x-python",
   "name": "python",
   "nbconvert_exporter": "python",
   "pygments_lexer": "ipython3",
   "version": "3.11.7"
  }
 },
 "nbformat": 4,
 "nbformat_minor": 2
}
