{
 "cells": [
  {
   "cell_type": "code",
   "execution_count": 1,
   "metadata": {},
   "outputs": [],
   "source": [
    "import pandas as pd\n",
    "from surprise import Dataset, Reader, KNNBasic\n",
    "from surprise.model_selection import train_test_split\n",
    "from surprise.accuracy import rmse\n",
    "from sklearn.feature_extraction.text import CountVectorizer\n",
    "from sklearn.metrics.pairwise import cosine_similarity\n",
    "\n",
    "# Load ratings.csv data\n",
    "ratings_df = pd.read_csv(r\"C:\\Users\\karrt\\Documents\\ProjectGRO\\Diff_proj\\ratings.csv\")"
   ]
  },
  {
   "cell_type": "code",
   "execution_count": 2,
   "metadata": {},
   "outputs": [
    {
     "name": "stdout",
     "output_type": "stream",
     "text": [
      "    userId  movieId  rating   timestamp\n",
      "0        1      296     5.0  1147880044\n",
      "2        1      307     5.0  1147868828\n",
      "3        1      665     5.0  1147878820\n",
      "8        1     1237     5.0  1147868839\n",
      "16       1     2351     4.5  1147877957\n"
     ]
    }
   ],
   "source": [
    "\n",
    "# Filter movies rated above 4 for each user and concatenate the DataFrames\n",
    "high_rated_movies = pd.concat([group for _, group in ratings_df[ratings_df['rating'] > 4].groupby('userId')])\n",
    "\n",
    "print(high_rated_movies.head())"
   ]
  },
  {
   "cell_type": "code",
   "execution_count": 3,
   "metadata": {},
   "outputs": [
    {
     "name": "stdout",
     "output_type": "stream",
     "text": [
      "5813013\n"
     ]
    }
   ],
   "source": [
    "print(len(high_rated_movies))"
   ]
  },
  {
   "cell_type": "code",
   "execution_count": 4,
   "metadata": {},
   "outputs": [
    {
     "name": "stdout",
     "output_type": "stream",
     "text": [
      "Number of 4.5 rated movies for each user:\n",
      "userId\n",
      "1          7\n",
      "2         29\n",
      "3         37\n",
      "4         36\n",
      "10         7\n",
      "          ..\n",
      "162534    37\n",
      "162536    13\n",
      "162538    30\n",
      "162540    21\n",
      "162541    27\n",
      "Length: 96195, dtype: int64\n"
     ]
    }
   ],
   "source": [
    "# Filter movies rated 3.5 for each user and count the occurrences\n",
    "count_4_5_ratings = high_rated_movies[high_rated_movies['rating'] == 4.5].groupby('userId').size()\n",
    "\n",
    "print(\"Number of 4.5 rated movies for each user:\")\n",
    "print(count_4_5_ratings)"
   ]
  },
  {
   "cell_type": "code",
   "execution_count": 5,
   "metadata": {},
   "outputs": [
    {
     "name": "stdout",
     "output_type": "stream",
     "text": [
      "Movie IDs with fewer than 20% of the total number of ratings:\n",
      "56935\n"
     ]
    }
   ],
   "source": [
    "# Calculate the total number of ratings\n",
    "total_ratings = ratings_df.shape[0]\n",
    "\n",
    "# Count the number of ratings for each movie ID\n",
    "movie_ratings_count = ratings_df['movieId'].value_counts()\n",
    "\n",
    "# Find movie IDs with fewer than 20% of the total number of ratings\n",
    "threshold = 0.0001 * total_ratings\n",
    "less_rated_movies = movie_ratings_count[movie_ratings_count < threshold].index\n",
    "\n",
    "# Display the movie IDs\n",
    "print(\"Movie IDs with fewer than 20% of the total number of ratings:\")\n",
    "print(len(less_rated_movies))"
   ]
  },
  {
   "cell_type": "code",
   "execution_count": 6,
   "metadata": {},
   "outputs": [
    {
     "name": "stdout",
     "output_type": "stream",
     "text": [
      "Total number of unique movie IDs in the original dataset: 59047\n"
     ]
    }
   ],
   "source": [
    "# Calculate the total number of unique movie IDs in the original dataset\n",
    "total_movie_ids = ratings_df['movieId'].nunique()\n",
    "\n",
    "# Display the total number of movie IDs\n",
    "print(\"Total number of unique movie IDs in the original dataset:\", total_movie_ids)\n"
   ]
  },
  {
   "cell_type": "code",
   "execution_count": 7,
   "metadata": {},
   "outputs": [
    {
     "name": "stdout",
     "output_type": "stream",
     "text": [
      "DataFrame after removing movie IDs with fewer than 0.1% of the total number of ratings:\n",
      "4933754\n"
     ]
    }
   ],
   "source": [
    "# Filter out rows with movie IDs in less_rated_movies\n",
    "high_rated_movies = high_rated_movies[~high_rated_movies['movieId'].isin(less_rated_movies)]\n",
    "\n",
    "# Display the updated DataFrame\n",
    "print(\"DataFrame after removing movie IDs with fewer than 0.1% of the total number of ratings:\")\n",
    "print(len(high_rated_movies))\n"
   ]
  },
  {
   "cell_type": "code",
   "execution_count": 8,
   "metadata": {},
   "outputs": [
    {
     "data": {
      "text/plain": [
       "2112"
      ]
     },
     "execution_count": 8,
     "metadata": {},
     "output_type": "execute_result"
    }
   ],
   "source": [
    "total_movie_ids2 = high_rated_movies['movieId'].nunique()\n",
    "total_movie_ids2"
   ]
  },
  {
   "cell_type": "code",
   "execution_count": 9,
   "metadata": {},
   "outputs": [
    {
     "name": "stdout",
     "output_type": "stream",
     "text": [
      "Vectorized ratings for each user:\n",
      "movieId  1       2       3       4       5       6       7       9       \\\n",
      "userId                                                                    \n",
      "1             0       0       0       0       0       0       0       0   \n",
      "2             0       0       0       0       0       0       0       0   \n",
      "3             0       0       0       0       0       0       0       0   \n",
      "4             0       0       0       0       0       0       0       0   \n",
      "5             0       0       0       0       0       0       0       0   \n",
      "\n",
      "movieId  10      11      ...  168252  171763  174055  176371  177593  177765  \\\n",
      "userId                   ...                                                   \n",
      "1             0       0  ...       0       0       0       0       0       0   \n",
      "2             0       0  ...       0       0       0       0       0       0   \n",
      "3             0       0  ...       0       0       0       1       0       0   \n",
      "4             0       0  ...       0       1       2       1       0       0   \n",
      "5             0       0  ...       0       0       0       0       0       0   \n",
      "\n",
      "movieId  179819  187541  187593  195159  \n",
      "userId                                   \n",
      "1             0       0       0       0  \n",
      "2             0       0       0       0  \n",
      "3             0       0       1       0  \n",
      "4             0       0       0       2  \n",
      "5             0       0       0       0  \n",
      "\n",
      "[5 rows x 2112 columns]\n"
     ]
    }
   ],
   "source": [
    "import numpy as np\n",
    "\n",
    "# Create a pivot table with user IDs as rows and movie IDs as columns, and fill it with ratings\n",
    "pivot_table = high_rated_movies.pivot_table(index='userId', columns='movieId', values='rating', fill_value=np.nan)\n",
    "\n",
    "# Replace NaN values with 0\n",
    "pivot_table.fillna(0, inplace=True)\n",
    "\n",
    "# Function to convert ratings to the desired format\n",
    "def convert_ratings(rating):\n",
    "    if rating == 5:\n",
    "        return 2\n",
    "    elif rating == 4 or rating == 4.5:\n",
    "        return 1\n",
    "    else:\n",
    "        return 0\n",
    "\n",
    "# Apply the function to all elements of the pivot table\n",
    "vectorized_ratings = pivot_table.applymap(convert_ratings)\n",
    "\n",
    "# Convert the pivot table to a DataFrame\n",
    "vectorized_ratings_df = pd.DataFrame(vectorized_ratings)\n",
    "\n",
    "# Display the resulting DataFrame\n",
    "print(\"Vectorized ratings for each user:\")\n",
    "print(vectorized_ratings_df.head())\n",
    "\n"
   ]
  },
  {
   "cell_type": "code",
   "execution_count": 11,
   "metadata": {},
   "outputs": [
    {
     "data": {
      "text/plain": [
       "(160220, 2112)"
      ]
     },
     "execution_count": 11,
     "metadata": {},
     "output_type": "execute_result"
    }
   ],
   "source": [
    "vectorized_ratings_df.shape"
   ]
  },
  {
   "cell_type": "code",
   "execution_count": 12,
   "metadata": {},
   "outputs": [
    {
     "name": "stdout",
     "output_type": "stream",
     "text": [
      "Recommended movies for User 4 :\n",
      "[541, 1136, 1197, 1580, 1732, 2028, 4963, 4993, 5110, 5618]\n"
     ]
    }
   ],
   "source": [
    "import pandas as pd\n",
    "import numpy as np\n",
    "from sklearn.metrics.pairwise import cosine_similarity\n",
    "\n",
    "# Assuming you have the vectorized_ratings_df DataFrame with the shape (160220, 2112)\n",
    "\n",
    "# Function to recommend movies for a given user\n",
    "def recommend_movies(user_id, vectorized_ratings_df, n_recommendations=10):\n",
    "    # Get the vector for the given user\n",
    "    user_vector = vectorized_ratings_df.loc[user_id].values.reshape(1, -1)\n",
    "\n",
    "    # Calculate cosine similarity between the user's vector and all other users' vectors\n",
    "    similarities = cosine_similarity(user_vector, vectorized_ratings_df.values)\n",
    "\n",
    "    # Find the most similar user\n",
    "    most_similar_user_idx = np.argsort(similarities[0])[-2]  # Exclude the target user itself\n",
    "\n",
    "    # Get movies watched by the most similar user but not by the target user\n",
    "    similar_user_movies = vectorized_ratings_df.iloc[most_similar_user_idx]\n",
    "    target_user_movies = vectorized_ratings_df.loc[user_id]\n",
    "    new_movies = similar_user_movies[similar_user_movies != target_user_movies].index.tolist()\n",
    "\n",
    "    # If there are fewer than n_recommendations different movies, get recommendations from the next most similar user\n",
    "    if len(new_movies) < n_recommendations:\n",
    "        second_most_similar_user_idx = np.argsort(similarities[0])[-3]  # Exclude the target user and the most similar user\n",
    "        second_similar_user_movies = vectorized_ratings_df.iloc[second_most_similar_user_idx]\n",
    "        additional_movies = second_similar_user_movies[~second_similar_user_movies.index.isin(new_movies)].index.tolist()\n",
    "        new_movies.extend(additional_movies[:n_recommendations - len(new_movies)])\n",
    "\n",
    "    # Return up to n_recommendations movies\n",
    "    return new_movies[:n_recommendations]\n",
    "\n",
    "# Example usage\n",
    "user_id = input(\"Enter your user ID: \")  # Example user ID\n",
    "user_id = int(user_id)  # Convert to integer if necessary\n",
    "recommended_movies = recommend_movies(user_id, vectorized_ratings_df)\n",
    "print(\"Recommended movies for User\", user_id, \":\")\n",
    "print(recommended_movies)\n"
   ]
  },
  {
   "cell_type": "code",
   "execution_count": 13,
   "metadata": {},
   "outputs": [
    {
     "name": "stdout",
     "output_type": "stream",
     "text": [
      "Recommended movies for User 100 :\n",
      "      movieId                               title\n",
      "0           1                    Toy Story (1995)\n",
      "1           2                      Jumanji (1995)\n",
      "2           3             Grumpier Old Men (1995)\n",
      "3           4            Waiting to Exhale (1995)\n",
      "4           5  Father of the Bride Part II (1995)\n",
      "699       714                     Dead Man (1995)\n",
      "1201     1233        Boot, Das (Boat, The) (1981)\n",
      "1319     1354           Breaking the Waves (1996)\n",
      "1323     1358                  Sling Blade (1996)\n",
      "1424     1466                Donnie Brasco (1997)\n"
     ]
    }
   ],
   "source": [
    "import pandas as pd\n",
    "\n",
    "# Load movies.csv\n",
    "movies_df = pd.read_csv(r\"C:\\Users\\karrt\\Documents\\ProjectGRO\\Diff_proj\\movies.csv\")  # Replace \"path_to_movies.csv\" with the actual path\n",
    "\n",
    "# Function to recommend movies for a given user\n",
    "def recommend_movies(user_id, vectorized_ratings_df, movies_df, n_recommendations=10):\n",
    "    # Assume vectorized_ratings_df is already defined and contains the user vectors\n",
    "\n",
    "    # Get the vector for the given user\n",
    "    user_vector = vectorized_ratings_df.loc[user_id].values.reshape(1, -1)\n",
    "\n",
    "    # Calculate cosine similarity between the user's vector and all other users' vectors\n",
    "    similarities = cosine_similarity(user_vector, vectorized_ratings_df.values)\n",
    "\n",
    "    # Find the most similar user\n",
    "    most_similar_user_idx = np.argsort(similarities[0])[-2]  # Exclude the target user itself\n",
    "\n",
    "    # Get movies watched by the most similar user but not by the target user\n",
    "    similar_user_movies = vectorized_ratings_df.iloc[most_similar_user_idx]\n",
    "    target_user_movies = vectorized_ratings_df.loc[user_id]\n",
    "    new_movies = similar_user_movies[similar_user_movies != target_user_movies].index.tolist()\n",
    "\n",
    "    # If there are fewer than n_recommendations different movies, get recommendations from the next most similar user\n",
    "    if len(new_movies) < n_recommendations:\n",
    "        second_most_similar_user_idx = np.argsort(similarities[0])[-3]  # Exclude the target user and the most similar user\n",
    "        second_similar_user_movies = vectorized_ratings_df.iloc[second_most_similar_user_idx]\n",
    "        additional_movies = second_similar_user_movies[~second_similar_user_movies.index.isin(new_movies)].index.tolist()\n",
    "        new_movies.extend(additional_movies[:n_recommendations - len(new_movies)])\n",
    "\n",
    "    # Map movie IDs to movie names\n",
    "    recommended_movies = movies_df[movies_df['movieId'].isin(new_movies)][['movieId', 'title']]\n",
    "\n",
    "    # Return up to n_recommendations movies\n",
    "    return recommended_movies\n",
    "\n",
    "# Example usage\n",
    "user_id = input(\"Enter your user ID: \")  # Example user ID\n",
    "user_id = int(user_id)  # Convert to integer if necessary\n",
    "recommended_movies = recommend_movies(user_id, vectorized_ratings_df, movies_df)\n",
    "print(\"Recommended movies for User\", user_id, \":\")\n",
    "print(recommended_movies)\n"
   ]
  }
 ],
 "metadata": {
  "kernelspec": {
   "display_name": "base",
   "language": "python",
   "name": "python3"
  },
  "language_info": {
   "codemirror_mode": {
    "name": "ipython",
    "version": 3
   },
   "file_extension": ".py",
   "mimetype": "text/x-python",
   "name": "python",
   "nbconvert_exporter": "python",
   "pygments_lexer": "ipython3",
   "version": "3.11.7"
  }
 },
 "nbformat": 4,
 "nbformat_minor": 2
}
