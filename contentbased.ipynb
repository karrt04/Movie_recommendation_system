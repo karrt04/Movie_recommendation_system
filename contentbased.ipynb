{
 "cells": [
  {
   "cell_type": "code",
   "execution_count": 2,
   "metadata": {},
   "outputs": [],
   "source": [
    "import pandas as pd\n",
    "from surprise import Dataset, Reader, KNNBasic\n",
    "from surprise.model_selection import train_test_split\n",
    "from surprise.accuracy import rmse\n",
    "from sklearn.feature_extraction.text import CountVectorizer\n",
    "from sklearn.metrics.pairwise import cosine_similarity\n",
    "\n",
    "# Load movies.csv data\n",
    "movies_df = pd.read_csv(r\"C:\\Users\\karrt\\Documents\\MLProjects\\Movie_recommendation\\movies.csv\")\n",
    "\n",
    "# Load ratings.csv data\n",
    "ratings_df = pd.read_csv(r\"C:\\Users\\karrt\\Documents\\MLProjects\\Movie_recommendation\\ratings.csv\")"
   ]
  },
  {
   "cell_type": "code",
   "execution_count": 3,
   "metadata": {},
   "outputs": [
    {
     "name": "stdout",
     "output_type": "stream",
     "text": [
      "Shape of cleaned DataFrame: (57361, 3)\n"
     ]
    }
   ],
   "source": [
    "# Remove rows where genre is \"(no genres listed)\"\n",
    "movies_df = movies_df[movies_df['genres'] != \"(no genres listed)\"]\n",
    "\n",
    "# Verify the removal by printing the shape of the cleaned DataFrame\n",
    "print(\"Shape of cleaned DataFrame:\", movies_df.shape)"
   ]
  },
  {
   "cell_type": "code",
   "execution_count": 4,
   "metadata": {},
   "outputs": [],
   "source": [
    "# Ask for user ID\n",
    "user_id = int(input(\"Enter your user ID: \"))\n",
    "\n",
    "# Filter ratings for the user and sort by timestamp in descending order\n",
    "user_ratings = ratings_df[ratings_df['userId'] == user_id].sort_values(by='timestamp', ascending=False)\n",
    "\n",
    "# Get the recent 10 movies watched by the user\n",
    "recent_movies = user_ratings.head(10)"
   ]
  },
  {
   "cell_type": "code",
   "execution_count": 5,
   "metadata": {},
   "outputs": [
    {
     "name": "stdout",
     "output_type": "stream",
     "text": [
      "211                                             Drama\n",
      "287                                       Crime|Drama\n",
      "522                                         Drama|War\n",
      "536                            Action|Sci-Fi|Thriller\n",
      "582                           Adventure|Drama|Western\n",
      "972                                      Comedy|Drama\n",
      "1164                                            Drama\n",
      "1329                                            Drama\n",
      "1363                                            Drama\n",
      "1422    Crime|Drama|Fantasy|Film-Noir|Mystery|Romance\n",
      "Name: genres, dtype: object\n",
      "Drama     9\n",
      "Crime     2\n",
      "War       1\n",
      "Action    1\n",
      "Sci-Fi    1\n",
      "Name: genres, dtype: int64\n"
     ]
    }
   ],
   "source": [
    "# Get the genres of the recent movies\n",
    "recent_movie_ids = recent_movies['movieId'].tolist()\n",
    "recent_movie_genres = movies_df[movies_df['movieId'].isin(recent_movie_ids)]['genres']\n",
    "print(recent_movie_genres)\n",
    "\n",
    "# # Count the occurrences of each genre in the recent movies\n",
    "# genre_counts = ' '.join(recent_movie_genres).split('|')\n",
    "# print(genre_counts)\n",
    "# genre_counts = pd.Series(genre_counts).value_counts().head(5)\n",
    "# print(genre_counts)\n",
    "# Count the occurrences of each genre in the recent movies\n",
    "genre_counts = recent_movie_genres.str.split('|').explode().value_counts().head(5)\n",
    "print(genre_counts)\n",
    "\n",
    "# # Get the top 5 most watched genres from the recent movies (without duplicates)\n",
    "top_genres = genre_counts.index.unique().tolist()[:5]\n",
    "\n",
    "seen = set()\n",
    "top_genres_unique = [x for x in top_genres if not (x in seen or seen.add(x))]"
   ]
  },
  {
   "cell_type": "code",
   "execution_count": 6,
   "metadata": {},
   "outputs": [
    {
     "name": "stdout",
     "output_type": "stream",
     "text": [
      "['Drama', 'Crime', 'War', 'Action', 'Sci-Fi']\n",
      "211                                             Drama\n",
      "287                                       Crime|Drama\n",
      "522                                         Drama|War\n",
      "536                            Action|Sci-Fi|Thriller\n",
      "582                           Adventure|Drama|Western\n",
      "972                                      Comedy|Drama\n",
      "1164                                            Drama\n",
      "1329                                            Drama\n",
      "1363                                            Drama\n",
      "1422    Crime|Drama|Fantasy|Film-Noir|Mystery|Romance\n",
      "Name: genres, dtype: object\n"
     ]
    }
   ],
   "source": [
    "print(top_genres_unique)\n",
    "print(recent_movie_genres)"
   ]
  },
  {
   "cell_type": "code",
   "execution_count": 7,
   "metadata": {},
   "outputs": [],
   "source": [
    "# Filter movies by genres\n",
    "genre_movies = movies_df[movies_df['genres'].apply(lambda x: any(genre in x for genre in top_genres))]\n",
    "\n",
    "# Convert genres into a single string\n",
    "genre_string = ' '.join(genre_movies['genres'])"
   ]
  },
  {
   "cell_type": "code",
   "execution_count": 8,
   "metadata": {},
   "outputs": [
    {
     "name": "stdout",
     "output_type": "stream",
     "text": [
      "34220\n"
     ]
    }
   ],
   "source": [
    "print(len(genre_movies))"
   ]
  },
  {
   "cell_type": "code",
   "execution_count": 9,
   "metadata": {},
   "outputs": [
    {
     "name": "stdout",
     "output_type": "stream",
     "text": [
      "TfidfVectorizer(stop_words='english')\n"
     ]
    }
   ],
   "source": [
    "from sklearn.feature_extraction.text import TfidfVectorizer\n",
    "from sklearn.metrics.pairwise import cosine_similarity\n",
    "\n",
    "# Initialize TF-IDF Vectorizer\n",
    "tfidf = TfidfVectorizer(stop_words='english')\n",
    "print(tfidf)\n",
    "\n",
    "# Fit and transform the genres column\n",
    "tfidf_matrix = tfidf.fit_transform(movies_df['genres'])"
   ]
  },
  {
   "cell_type": "code",
   "execution_count": 10,
   "metadata": {},
   "outputs": [],
   "source": [
    "# Recommend movies based on the closest genres\n",
    "def recommend_movies_based_on_genres(closest_genres, df, tfidf_vectorizer, top_n=10):\n",
    "    # Combine closest genres into a single string\n",
    "    combined_genres = ' '.join(closest_genres)\n",
    "    # Transform combined genres into TF-IDF vector\n",
    "    input_tfidf = tfidf_vectorizer.transform([combined_genres])\n",
    "    # Compute cosine similarity between combined genres and all movies\n",
    "    cosine_scores = cosine_similarity(input_tfidf, tfidf_matrix).flatten()\n",
    "    print(cosine_scores)\n",
    "    # Get indices of top n movies with highest cosine similarity\n",
    "    top_indices = cosine_scores.argsort()[-top_n:][::-1]\n",
    "    # Retrieve movie titles based on top indices\n",
    "    recommended_movies = df.iloc[top_indices]['title']\n",
    "    \n",
    "    return recommended_movies\n"
   ]
  },
  {
   "cell_type": "code",
   "execution_count": 11,
   "metadata": {},
   "outputs": [
    {
     "name": "stdout",
     "output_type": "stream",
     "text": [
      "[0.         0.         0.         ... 0.         0.13426906 0.29257331]\n"
     ]
    }
   ],
   "source": [
    "recommended_movies = recommend_movies_based_on_genres(top_genres, movies_df, tfidf)"
   ]
  },
  {
   "cell_type": "code",
   "execution_count": 12,
   "metadata": {},
   "outputs": [
    {
     "name": "stdout",
     "output_type": "stream",
     "text": [
      "For user ID: 100 recommended movies are:\n",
      "29750    Flight World War II (2015)\n",
      "17842          Zone Troopers (1985)\n",
      "44769           G.I. Samurai (1979)\n",
      "2231                 Soldier (1998)\n",
      "16125    Battle: Los Angeles (2011)\n",
      "22553         Whip Hand, The (1951)\n",
      "30121               Criminal (2016)\n",
      "31447            Tokyo Tribe (2014)\n",
      "61195         Men Must Fight (1933)\n",
      "45950                The Fog (2010)\n",
      "Name: title, dtype: object\n"
     ]
    }
   ],
   "source": [
    "print(\"For user ID:\",user_id,\"recommended movies are:\")\n",
    "print(recommended_movies)\n",
    "\n",
    "\n",
    "\n",
    "\n",
    "\n",
    "\n",
    "\n",
    "# # Use CountVectorizer to create a genre matrix\n",
    "# vectorizer = CountVectorizer()\n",
    "# genre_matrix = vectorizer.fit_transform([genre_string])\n",
    "\n",
    "# # Compute cosine similarity between genre matrix and each movie\n",
    "# cosine_sim = cosine_similarity(genre_matrix, genre_matrix)\n",
    "\n",
    "# # Get indices of top 10 movie recommendations based on cosine similarity\n",
    "# top_indices = cosine_sim[0].argsort()[-11:-1][::-1]\n",
    "\n",
    "# # Print top 10 movie recommendations\n",
    "# print(\"\\nTop 10 movie recommendations based on recent genres:\")\n",
    "# for idx in top_indices:\n",
    "#     print(\"Movie ID:\", genre_movies.iloc[idx]['movieId'], \"| Title:\", genre_movies.iloc[idx]['title'])\n"
   ]
  }
 ],
 "metadata": {
  "kernelspec": {
   "display_name": "base",
   "language": "python",
   "name": "python3"
  },
  "language_info": {
   "codemirror_mode": {
    "name": "ipython",
    "version": 3
   },
   "file_extension": ".py",
   "mimetype": "text/x-python",
   "name": "python",
   "nbconvert_exporter": "python",
   "pygments_lexer": "ipython3",
   "version": "3.11.7"
  }
 },
 "nbformat": 4,
 "nbformat_minor": 2
}
